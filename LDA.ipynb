{
 "cells": [
  {
   "cell_type": "code",
   "execution_count": 1,
   "metadata": {},
   "outputs": [
    {
     "name": "stderr",
     "output_type": "stream",
     "text": [
      "[nltk_data] Downloading package wordnet to\n",
      "[nltk_data]     /Users/beijiayu/nltk_data...\n",
      "[nltk_data]   Package wordnet is already up-to-date!\n"
     ]
    }
   ],
   "source": [
    "import pandas as pd\n",
    "import gensim\n",
    "import numpy as np\n",
    "import nltk\n",
    "\n",
    "nltk.download('wordnet')\n",
    "\n",
    "from gensim.utils import simple_preprocess\n",
    "from gensim.parsing.preprocessing import STOPWORDS\n",
    "from nltk.stem import WordNetLemmatizer, SnowballStemmer\n",
    "from nltk.stem.porter import *\n",
    "from gensim import corpora, models\n",
    "from pprint import pprint\n",
    "from tqdm.notebook import tqdm"
   ]
  },
  {
   "cell_type": "markdown",
   "metadata": {},
   "source": [
    "---\n",
    "## Step 1: Load the dataset"
   ]
  },
  {
   "cell_type": "code",
   "execution_count": 2,
   "metadata": {},
   "outputs": [],
   "source": [
    "data = pd.read_csv('./data/abcnews-date-text.csv', error_bad_lines=False)\n",
    "\n",
    "data_text = data[:300000][['headline_text']];\n",
    "data_text['index'] = data_text.index\n",
    "\n",
    "documents = data_text"
   ]
  },
  {
   "cell_type": "code",
   "execution_count": 3,
   "metadata": {},
   "outputs": [
    {
     "name": "stdout",
     "output_type": "stream",
     "text": [
      "300000\n"
     ]
    }
   ],
   "source": [
    "'''\n",
    "Get the total number of documents\n",
    "'''\n",
    "print(len(documents))"
   ]
  },
  {
   "cell_type": "code",
   "execution_count": 4,
   "metadata": {},
   "outputs": [
    {
     "data": {
      "text/html": [
       "<div>\n",
       "<style scoped>\n",
       "    .dataframe tbody tr th:only-of-type {\n",
       "        vertical-align: middle;\n",
       "    }\n",
       "\n",
       "    .dataframe tbody tr th {\n",
       "        vertical-align: top;\n",
       "    }\n",
       "\n",
       "    .dataframe thead th {\n",
       "        text-align: right;\n",
       "    }\n",
       "</style>\n",
       "<table border=\"1\" class=\"dataframe\">\n",
       "  <thead>\n",
       "    <tr style=\"text-align: right;\">\n",
       "      <th></th>\n",
       "      <th>headline_text</th>\n",
       "      <th>index</th>\n",
       "    </tr>\n",
       "  </thead>\n",
       "  <tbody>\n",
       "    <tr>\n",
       "      <th>0</th>\n",
       "      <td>aba decides against community broadcasting lic...</td>\n",
       "      <td>0</td>\n",
       "    </tr>\n",
       "    <tr>\n",
       "      <th>1</th>\n",
       "      <td>act fire witnesses must be aware of defamation</td>\n",
       "      <td>1</td>\n",
       "    </tr>\n",
       "    <tr>\n",
       "      <th>2</th>\n",
       "      <td>a g calls for infrastructure protection summit</td>\n",
       "      <td>2</td>\n",
       "    </tr>\n",
       "    <tr>\n",
       "      <th>3</th>\n",
       "      <td>air nz staff in aust strike for pay rise</td>\n",
       "      <td>3</td>\n",
       "    </tr>\n",
       "    <tr>\n",
       "      <th>4</th>\n",
       "      <td>air nz strike to affect australian travellers</td>\n",
       "      <td>4</td>\n",
       "    </tr>\n",
       "  </tbody>\n",
       "</table>\n",
       "</div>"
      ],
      "text/plain": [
       "                                       headline_text  index\n",
       "0  aba decides against community broadcasting lic...      0\n",
       "1     act fire witnesses must be aware of defamation      1\n",
       "2     a g calls for infrastructure protection summit      2\n",
       "3           air nz staff in aust strike for pay rise      3\n",
       "4      air nz strike to affect australian travellers      4"
      ]
     },
     "execution_count": 4,
     "metadata": {},
     "output_type": "execute_result"
    }
   ],
   "source": [
    "documents[:5]"
   ]
  },
  {
   "cell_type": "markdown",
   "metadata": {},
   "source": [
    "--- \n",
    "## Step 2: Data Preprocessing"
   ]
  },
  {
   "cell_type": "code",
   "execution_count": 5,
   "metadata": {},
   "outputs": [],
   "source": [
    "np.random.seed(400)"
   ]
  },
  {
   "cell_type": "code",
   "execution_count": 6,
   "metadata": {},
   "outputs": [
    {
     "name": "stdout",
     "output_type": "stream",
     "text": [
      "go\n"
     ]
    }
   ],
   "source": [
    "print(WordNetLemmatizer().lemmatize('went', pos = 'v')) # past tense to present tense"
   ]
  },
  {
   "cell_type": "code",
   "execution_count": 7,
   "metadata": {},
   "outputs": [
    {
     "data": {
      "text/html": [
       "<div>\n",
       "<style scoped>\n",
       "    .dataframe tbody tr th:only-of-type {\n",
       "        vertical-align: middle;\n",
       "    }\n",
       "\n",
       "    .dataframe tbody tr th {\n",
       "        vertical-align: top;\n",
       "    }\n",
       "\n",
       "    .dataframe thead th {\n",
       "        text-align: right;\n",
       "    }\n",
       "</style>\n",
       "<table border=\"1\" class=\"dataframe\">\n",
       "  <thead>\n",
       "    <tr style=\"text-align: right;\">\n",
       "      <th></th>\n",
       "      <th>original word</th>\n",
       "      <th>stemmed</th>\n",
       "    </tr>\n",
       "  </thead>\n",
       "  <tbody>\n",
       "    <tr>\n",
       "      <th>0</th>\n",
       "      <td>caresses</td>\n",
       "      <td>caress</td>\n",
       "    </tr>\n",
       "    <tr>\n",
       "      <th>1</th>\n",
       "      <td>flies</td>\n",
       "      <td>fli</td>\n",
       "    </tr>\n",
       "    <tr>\n",
       "      <th>2</th>\n",
       "      <td>dies</td>\n",
       "      <td>die</td>\n",
       "    </tr>\n",
       "    <tr>\n",
       "      <th>3</th>\n",
       "      <td>mules</td>\n",
       "      <td>mule</td>\n",
       "    </tr>\n",
       "    <tr>\n",
       "      <th>4</th>\n",
       "      <td>denied</td>\n",
       "      <td>deni</td>\n",
       "    </tr>\n",
       "    <tr>\n",
       "      <th>5</th>\n",
       "      <td>died</td>\n",
       "      <td>die</td>\n",
       "    </tr>\n",
       "    <tr>\n",
       "      <th>6</th>\n",
       "      <td>agreed</td>\n",
       "      <td>agre</td>\n",
       "    </tr>\n",
       "    <tr>\n",
       "      <th>7</th>\n",
       "      <td>owned</td>\n",
       "      <td>own</td>\n",
       "    </tr>\n",
       "    <tr>\n",
       "      <th>8</th>\n",
       "      <td>humbled</td>\n",
       "      <td>humbl</td>\n",
       "    </tr>\n",
       "    <tr>\n",
       "      <th>9</th>\n",
       "      <td>sized</td>\n",
       "      <td>size</td>\n",
       "    </tr>\n",
       "    <tr>\n",
       "      <th>10</th>\n",
       "      <td>meeting</td>\n",
       "      <td>meet</td>\n",
       "    </tr>\n",
       "    <tr>\n",
       "      <th>11</th>\n",
       "      <td>stating</td>\n",
       "      <td>state</td>\n",
       "    </tr>\n",
       "    <tr>\n",
       "      <th>12</th>\n",
       "      <td>siezing</td>\n",
       "      <td>siez</td>\n",
       "    </tr>\n",
       "    <tr>\n",
       "      <th>13</th>\n",
       "      <td>itemization</td>\n",
       "      <td>item</td>\n",
       "    </tr>\n",
       "    <tr>\n",
       "      <th>14</th>\n",
       "      <td>sensational</td>\n",
       "      <td>sensat</td>\n",
       "    </tr>\n",
       "    <tr>\n",
       "      <th>15</th>\n",
       "      <td>traditional</td>\n",
       "      <td>tradit</td>\n",
       "    </tr>\n",
       "    <tr>\n",
       "      <th>16</th>\n",
       "      <td>reference</td>\n",
       "      <td>refer</td>\n",
       "    </tr>\n",
       "    <tr>\n",
       "      <th>17</th>\n",
       "      <td>colonizer</td>\n",
       "      <td>colon</td>\n",
       "    </tr>\n",
       "    <tr>\n",
       "      <th>18</th>\n",
       "      <td>plotted</td>\n",
       "      <td>plot</td>\n",
       "    </tr>\n",
       "  </tbody>\n",
       "</table>\n",
       "</div>"
      ],
      "text/plain": [
       "   original word stemmed\n",
       "0       caresses  caress\n",
       "1          flies     fli\n",
       "2           dies     die\n",
       "3          mules    mule\n",
       "4         denied    deni\n",
       "5           died     die\n",
       "6         agreed    agre\n",
       "7          owned     own\n",
       "8        humbled   humbl\n",
       "9          sized    size\n",
       "10       meeting    meet\n",
       "11       stating   state\n",
       "12       siezing    siez\n",
       "13   itemization    item\n",
       "14   sensational  sensat\n",
       "15   traditional  tradit\n",
       "16     reference   refer\n",
       "17     colonizer   colon\n",
       "18       plotted    plot"
      ]
     },
     "execution_count": 7,
     "metadata": {},
     "output_type": "execute_result"
    }
   ],
   "source": [
    "stemmer = SnowballStemmer(\"english\")\n",
    "original_words = ['caresses', 'flies', 'dies', 'mules', 'denied','died', 'agreed', 'owned', \n",
    "           'humbled', 'sized','meeting', 'stating', 'siezing', 'itemization','sensational', \n",
    "           'traditional', 'reference', 'colonizer','plotted']\n",
    "singles = [stemmer.stem(plural) for plural in original_words]\n",
    "\n",
    "pd.DataFrame(data={'original word':original_words, 'stemmed':singles })"
   ]
  },
  {
   "cell_type": "code",
   "execution_count": 8,
   "metadata": {},
   "outputs": [],
   "source": [
    "'''\n",
    "Write a function to perform the pre processing steps on the entire dataset\n",
    "'''\n",
    "def lemmatize_stemming(text):\n",
    "    return stemmer.stem(WordNetLemmatizer().lemmatize(text, pos='v'))\n",
    "\n",
    "# Tokenize and lemmatize\n",
    "def preprocess(text):\n",
    "    result=[]\n",
    "    for token in gensim.utils.simple_preprocess(text) :\n",
    "        if token not in gensim.parsing.preprocessing.STOPWORDS and len(token) > 3:\n",
    "            result.append(lemmatize_stemming(token))\n",
    "    return result"
   ]
  },
  {
   "cell_type": "code",
   "execution_count": 9,
   "metadata": {},
   "outputs": [
    {
     "name": "stdout",
     "output_type": "stream",
     "text": [
      "Original document: \n",
      "['rain', 'helps', 'dampen', 'bushfires']\n",
      "\n",
      "\n",
      "Tokenized and lemmatized document: \n",
      "['rain', 'help', 'dampen', 'bushfir']\n"
     ]
    }
   ],
   "source": [
    "'''\n",
    "Preview a document after preprocessing\n",
    "'''\n",
    "document_num = 4310\n",
    "doc_sample = documents[documents['index'] == document_num].values[0][0]\n",
    "\n",
    "print(\"Original document: \")\n",
    "words = []\n",
    "for word in doc_sample.split(' '):\n",
    "    words.append(word)\n",
    "print(words)\n",
    "print(\"\\n\\nTokenized and lemmatized document: \")\n",
    "print(preprocess(doc_sample))"
   ]
  },
  {
   "cell_type": "code",
   "execution_count": 10,
   "metadata": {},
   "outputs": [
    {
     "data": {
      "text/html": [
       "<div>\n",
       "<style scoped>\n",
       "    .dataframe tbody tr th:only-of-type {\n",
       "        vertical-align: middle;\n",
       "    }\n",
       "\n",
       "    .dataframe tbody tr th {\n",
       "        vertical-align: top;\n",
       "    }\n",
       "\n",
       "    .dataframe thead th {\n",
       "        text-align: right;\n",
       "    }\n",
       "</style>\n",
       "<table border=\"1\" class=\"dataframe\">\n",
       "  <thead>\n",
       "    <tr style=\"text-align: right;\">\n",
       "      <th></th>\n",
       "      <th>headline_text</th>\n",
       "      <th>index</th>\n",
       "    </tr>\n",
       "  </thead>\n",
       "  <tbody>\n",
       "    <tr>\n",
       "      <th>0</th>\n",
       "      <td>aba decides against community broadcasting lic...</td>\n",
       "      <td>0</td>\n",
       "    </tr>\n",
       "    <tr>\n",
       "      <th>1</th>\n",
       "      <td>act fire witnesses must be aware of defamation</td>\n",
       "      <td>1</td>\n",
       "    </tr>\n",
       "    <tr>\n",
       "      <th>2</th>\n",
       "      <td>a g calls for infrastructure protection summit</td>\n",
       "      <td>2</td>\n",
       "    </tr>\n",
       "    <tr>\n",
       "      <th>3</th>\n",
       "      <td>air nz staff in aust strike for pay rise</td>\n",
       "      <td>3</td>\n",
       "    </tr>\n",
       "    <tr>\n",
       "      <th>4</th>\n",
       "      <td>air nz strike to affect australian travellers</td>\n",
       "      <td>4</td>\n",
       "    </tr>\n",
       "    <tr>\n",
       "      <th>...</th>\n",
       "      <td>...</td>\n",
       "      <td>...</td>\n",
       "    </tr>\n",
       "    <tr>\n",
       "      <th>299995</th>\n",
       "      <td>broughton hall audit reveals serious breaches</td>\n",
       "      <td>299995</td>\n",
       "    </tr>\n",
       "    <tr>\n",
       "      <th>299996</th>\n",
       "      <td>broughton hall fails key standards</td>\n",
       "      <td>299996</td>\n",
       "    </tr>\n",
       "    <tr>\n",
       "      <th>299997</th>\n",
       "      <td>broughton hall safe for residents govt says</td>\n",
       "      <td>299997</td>\n",
       "    </tr>\n",
       "    <tr>\n",
       "      <th>299998</th>\n",
       "      <td>burn off at conservation park aims to prevent</td>\n",
       "      <td>299998</td>\n",
       "    </tr>\n",
       "    <tr>\n",
       "      <th>299999</th>\n",
       "      <td>burns suspended for two games</td>\n",
       "      <td>299999</td>\n",
       "    </tr>\n",
       "  </tbody>\n",
       "</table>\n",
       "<p>300000 rows × 2 columns</p>\n",
       "</div>"
      ],
      "text/plain": [
       "                                            headline_text   index\n",
       "0       aba decides against community broadcasting lic...       0\n",
       "1          act fire witnesses must be aware of defamation       1\n",
       "2          a g calls for infrastructure protection summit       2\n",
       "3                air nz staff in aust strike for pay rise       3\n",
       "4           air nz strike to affect australian travellers       4\n",
       "...                                                   ...     ...\n",
       "299995      broughton hall audit reveals serious breaches  299995\n",
       "299996                 broughton hall fails key standards  299996\n",
       "299997        broughton hall safe for residents govt says  299997\n",
       "299998      burn off at conservation park aims to prevent  299998\n",
       "299999                      burns suspended for two games  299999\n",
       "\n",
       "[300000 rows x 2 columns]"
      ]
     },
     "execution_count": 10,
     "metadata": {},
     "output_type": "execute_result"
    }
   ],
   "source": [
    "documents"
   ]
  },
  {
   "cell_type": "code",
   "execution_count": 11,
   "metadata": {},
   "outputs": [
    {
     "data": {
      "application/vnd.jupyter.widget-view+json": {
       "model_id": "675bcf523b9e484893079889b3ca4081",
       "version_major": 2,
       "version_minor": 0
      },
      "text/plain": [
       "HBox(children=(FloatProgress(value=0.0, max=300000.0), HTML(value='')))"
      ]
     },
     "metadata": {},
     "output_type": "display_data"
    },
    {
     "name": "stdout",
     "output_type": "stream",
     "text": [
      "\n"
     ]
    }
   ],
   "source": [
    "processed_docs = [preprocess(text) for text in tqdm(documents['headline_text'])]"
   ]
  },
  {
   "cell_type": "code",
   "execution_count": 12,
   "metadata": {},
   "outputs": [
    {
     "data": {
      "text/plain": [
       "[['decid', 'communiti', 'broadcast', 'licenc'],\n",
       " ['wit', 'awar', 'defam'],\n",
       " ['call', 'infrastructur', 'protect', 'summit'],\n",
       " ['staff', 'aust', 'strike', 'rise'],\n",
       " ['strike', 'affect', 'australian', 'travel'],\n",
       " ['ambiti', 'olsson', 'win', 'tripl', 'jump'],\n",
       " ['antic', 'delight', 'record', 'break', 'barca'],\n",
       " ['aussi', 'qualifi', 'stosur', 'wast', 'memphi', 'match'],\n",
       " ['aust', 'address', 'secur', 'council', 'iraq'],\n",
       " ['australia', 'lock', 'timet']]"
      ]
     },
     "execution_count": 12,
     "metadata": {},
     "output_type": "execute_result"
    }
   ],
   "source": [
    "processed_docs[:10]"
   ]
  },
  {
   "cell_type": "markdown",
   "metadata": {},
   "source": [
    "---\n",
    "## Step 3.1: Bag of words on the dataset"
   ]
  },
  {
   "cell_type": "code",
   "execution_count": 13,
   "metadata": {},
   "outputs": [],
   "source": [
    "'''\n",
    "Create a dictionary from 'processed_docs' containing the number of times a word appears \n",
    "in the training set using gensim.corpora.Dictionary and call it 'dictionary'\n",
    "'''\n",
    "dictionary = gensim.corpora.Dictionary(processed_docs)"
   ]
  },
  {
   "cell_type": "code",
   "execution_count": 14,
   "metadata": {},
   "outputs": [
    {
     "name": "stdout",
     "output_type": "stream",
     "text": [
      "0 broadcast\n",
      "1 communiti\n",
      "2 decid\n",
      "3 licenc\n",
      "4 awar\n",
      "5 defam\n",
      "6 wit\n",
      "7 call\n",
      "8 infrastructur\n",
      "9 protect\n",
      "10 summit\n"
     ]
    }
   ],
   "source": [
    "'''\n",
    "Checking dictionary created\n",
    "'''\n",
    "count = 0\n",
    "for k, v in dictionary.iteritems():\n",
    "    print(k, v)\n",
    "    count += 1\n",
    "    if count > 10:\n",
    "        break"
   ]
  },
  {
   "cell_type": "code",
   "execution_count": 15,
   "metadata": {},
   "outputs": [],
   "source": [
    "dictionary.filter_extremes(no_below=15, no_above=0.1)"
   ]
  },
  {
   "cell_type": "code",
   "execution_count": 16,
   "metadata": {},
   "outputs": [
    {
     "data": {
      "application/vnd.jupyter.widget-view+json": {
       "model_id": "dc8082f6a4ef44c880fa0b15a1e9097f",
       "version_major": 2,
       "version_minor": 0
      },
      "text/plain": [
       "HBox(children=(FloatProgress(value=0.0, max=300000.0), HTML(value='')))"
      ]
     },
     "metadata": {},
     "output_type": "display_data"
    },
    {
     "name": "stdout",
     "output_type": "stream",
     "text": [
      "\n"
     ]
    }
   ],
   "source": [
    "'''\n",
    "Create the Bag-of-words model for each document i.e for each document we create a dictionary reporting how many\n",
    "words and how many times those words appear. Save this to 'bow_corpus'\n",
    "'''\n",
    "bow_corpus = [dictionary.doc2bow(doc) for index, doc in enumerate(tqdm(processed_docs))]"
   ]
  },
  {
   "cell_type": "code",
   "execution_count": 17,
   "metadata": {},
   "outputs": [
    {
     "data": {
      "text/plain": [
       "[(71, 1), (107, 1), (462, 1), (3530, 1)]"
      ]
     },
     "execution_count": 17,
     "metadata": {},
     "output_type": "execute_result"
    }
   ],
   "source": [
    "'''\n",
    "Checking Bag of Words corpus for our sample document --> (token_id, token_count)\n",
    "'''\n",
    "bow_corpus[document_num]"
   ]
  },
  {
   "cell_type": "code",
   "execution_count": 18,
   "metadata": {},
   "outputs": [
    {
     "name": "stdout",
     "output_type": "stream",
     "text": [
      "Word 71 (\"bushfir\") appears 1 time.\n",
      "Word 107 (\"help\") appears 1 time.\n",
      "Word 462 (\"rain\") appears 1 time.\n",
      "Word 3530 (\"dampen\") appears 1 time.\n"
     ]
    }
   ],
   "source": [
    "'''\n",
    "Preview BOW for our sample preprocessed document\n",
    "'''\n",
    "# Here document_num is document number 4310 which we have checked in Step 2\n",
    "bow_doc_4310 = bow_corpus[document_num]\n",
    "\n",
    "for i in range(len(bow_doc_4310)):\n",
    "    print(\"Word {} (\\\"{}\\\") appears {} time.\".format(bow_doc_4310[i][0], \n",
    "                                                     dictionary[bow_doc_4310[i][0]], \n",
    "                                                     bow_doc_4310[i][1]))"
   ]
  },
  {
   "cell_type": "markdown",
   "metadata": {},
   "source": [
    "---\n",
    "## Step 3.2: TF-IDF on our document set"
   ]
  },
  {
   "cell_type": "code",
   "execution_count": 19,
   "metadata": {},
   "outputs": [],
   "source": [
    "tfidf = models.TfidfModel(bow_corpus)"
   ]
  },
  {
   "cell_type": "code",
   "execution_count": 20,
   "metadata": {},
   "outputs": [
    {
     "data": {
      "application/vnd.jupyter.widget-view+json": {
       "model_id": "3f73db64fe26472abf060c7162cfb7b2",
       "version_major": 2,
       "version_minor": 0
      },
      "text/plain": [
       "HBox(children=(FloatProgress(value=0.0, max=300000.0), HTML(value='')))"
      ]
     },
     "metadata": {},
     "output_type": "display_data"
    },
    {
     "name": "stdout",
     "output_type": "stream",
     "text": [
      "\n"
     ]
    }
   ],
   "source": [
    "corpus_tfidf = [tfidf[element] for element in tqdm(bow_corpus)]"
   ]
  },
  {
   "cell_type": "code",
   "execution_count": 21,
   "metadata": {},
   "outputs": [
    {
     "name": "stdout",
     "output_type": "stream",
     "text": [
      "[(0, 0.5959813347777092),\n",
      " (1, 0.39204529549491984),\n",
      " (2, 0.48531419274988147),\n",
      " (3, 0.5055461098578569)]\n"
     ]
    }
   ],
   "source": [
    "for doc in corpus_tfidf:\n",
    "    pprint(doc)\n",
    "    break"
   ]
  },
  {
   "cell_type": "markdown",
   "metadata": {},
   "source": [
    "---\n",
    "## Step 4.1: Running LDA using Bag of Words"
   ]
  },
  {
   "cell_type": "code",
   "execution_count": 22,
   "metadata": {},
   "outputs": [],
   "source": [
    "lda_model = gensim.models.LdaMulticore(bow_corpus, \n",
    "                                   num_topics = 10, \n",
    "                                   id2word = dictionary,                                    \n",
    "                                   passes = 10,\n",
    "                                   workers = 2)"
   ]
  },
  {
   "cell_type": "code",
   "execution_count": 23,
   "metadata": {},
   "outputs": [
    {
     "name": "stdout",
     "output_type": "stream",
     "text": [
      "Topic: 0.025*\"open\" + 0.021*\"test\" + 0.018*\"world\" + 0.017*\"win\" + 0.015*\"lead\" + 0.014*\"south\" + 0.012*\"aussi\" + 0.012*\"take\" + 0.012*\"timor\" + 0.011*\"strike\" \n",
      "Words: 0\n",
      "\n",
      "\n",
      "Topic: 0.035*\"report\" + 0.030*\"help\" + 0.018*\"deal\" + 0.017*\"blaze\" + 0.015*\"inquiri\" + 0.013*\"close\" + 0.013*\"firefight\" + 0.012*\"bushfir\" + 0.012*\"trade\" + 0.011*\"river\" \n",
      "Words: 1\n",
      "\n",
      "\n",
      "Topic: 0.039*\"crash\" + 0.022*\"closer\" + 0.021*\"road\" + 0.017*\"die\" + 0.016*\"coast\" + 0.014*\"train\" + 0.014*\"dead\" + 0.012*\"kill\" + 0.012*\"gold\" + 0.012*\"north\" \n",
      "Words: 2\n",
      "\n",
      "\n",
      "Topic: 0.041*\"plan\" + 0.036*\"govt\" + 0.033*\"council\" + 0.029*\"water\" + 0.022*\"urg\" + 0.018*\"fund\" + 0.016*\"group\" + 0.012*\"boost\" + 0.012*\"chang\" + 0.011*\"concern\" \n",
      "Words: 3\n",
      "\n",
      "\n",
      "Topic: 0.023*\"hospit\" + 0.022*\"labor\" + 0.019*\"defend\" + 0.018*\"elect\" + 0.016*\"govt\" + 0.016*\"protest\" + 0.015*\"minist\" + 0.013*\"chief\" + 0.013*\"work\" + 0.013*\"begin\" \n",
      "Words: 4\n",
      "\n",
      "\n",
      "Topic: 0.045*\"warn\" + 0.020*\"fight\" + 0.017*\"nuclear\" + 0.017*\"england\" + 0.017*\"year\" + 0.014*\"action\" + 0.014*\"threat\" + 0.011*\"iran\" + 0.011*\"say\" + 0.009*\"program\" \n",
      "Words: 5\n",
      "\n",
      "\n",
      "Topic: 0.020*\"school\" + 0.019*\"rise\" + 0.019*\"farmer\" + 0.019*\"drought\" + 0.017*\"price\" + 0.015*\"high\" + 0.014*\"market\" + 0.013*\"rain\" + 0.012*\"feder\" + 0.011*\"safeti\" \n",
      "Words: 6\n",
      "\n",
      "\n",
      "Topic: 0.028*\"iraq\" + 0.018*\"talk\" + 0.016*\"hold\" + 0.016*\"australia\" + 0.015*\"troop\" + 0.012*\"storm\" + 0.012*\"leader\" + 0.010*\"bush\" + 0.010*\"victori\" + 0.010*\"tiger\" \n",
      "Words: 7\n",
      "\n",
      "\n",
      "Topic: 0.073*\"polic\" + 0.031*\"charg\" + 0.027*\"court\" + 0.026*\"face\" + 0.020*\"kill\" + 0.020*\"investig\" + 0.019*\"attack\" + 0.019*\"miss\" + 0.018*\"jail\" + 0.018*\"death\" \n",
      "Words: 8\n",
      "\n",
      "\n",
      "Topic: 0.034*\"claim\" + 0.027*\"say\" + 0.025*\"opposit\" + 0.021*\"deni\" + 0.019*\"govt\" + 0.018*\"reject\" + 0.018*\"rule\" + 0.017*\"break\" + 0.013*\"wont\" + 0.011*\"rudd\" \n",
      "Words: 9\n",
      "\n",
      "\n"
     ]
    }
   ],
   "source": [
    "'''\n",
    "For each topic, we will explore the words occuring in that topic and its relative weight\n",
    "'''\n",
    "for idx, topic in lda_model.print_topics(-1):\n",
    "    print(\"Topic: {} \\nWords: {}\".format(topic, idx ))\n",
    "    print(\"\\n\")"
   ]
  },
  {
   "cell_type": "markdown",
   "metadata": {},
   "source": [
    "---\n",
    "## Step 4.2 Running LDA using TF-IDF"
   ]
  },
  {
   "cell_type": "code",
   "execution_count": 24,
   "metadata": {},
   "outputs": [],
   "source": [
    "lda_model_tfidf = gensim.models.LdaMulticore(corpus_tfidf, \n",
    "                                   num_topics = 10, \n",
    "                                   id2word = dictionary,                                    \n",
    "                                   passes = 10,\n",
    "                                   workers = 2)"
   ]
  },
  {
   "cell_type": "code",
   "execution_count": 25,
   "metadata": {},
   "outputs": [
    {
     "name": "stdout",
     "output_type": "stream",
     "text": [
      "Topic: 0 Word: 0.040*\"closer\" + 0.009*\"cyclon\" + 0.009*\"tiger\" + 0.008*\"market\" + 0.008*\"england\" + 0.008*\"victori\" + 0.007*\"blue\" + 0.006*\"season\" + 0.006*\"open\" + 0.006*\"lead\"\n",
      "\n",
      "\n",
      "Topic: 1 Word: 0.023*\"kill\" + 0.021*\"crash\" + 0.012*\"die\" + 0.011*\"timor\" + 0.010*\"troop\" + 0.010*\"iraq\" + 0.010*\"south\" + 0.009*\"injur\" + 0.009*\"dead\" + 0.008*\"bomb\"\n",
      "\n",
      "\n",
      "Topic: 2 Word: 0.023*\"miss\" + 0.019*\"search\" + 0.013*\"rudd\" + 0.011*\"rate\" + 0.008*\"airport\" + 0.008*\"polic\" + 0.008*\"level\" + 0.008*\"escap\" + 0.007*\"post\" + 0.007*\"profit\"\n",
      "\n",
      "\n",
      "Topic: 3 Word: 0.014*\"fatal\" + 0.009*\"qanta\" + 0.008*\"hill\" + 0.008*\"anti\" + 0.007*\"break\" + 0.007*\"law\" + 0.007*\"terror\" + 0.006*\"iemma\" + 0.006*\"speed\" + 0.006*\"plant\"\n",
      "\n",
      "\n",
      "Topic: 4 Word: 0.023*\"charg\" + 0.022*\"polic\" + 0.017*\"court\" + 0.015*\"murder\" + 0.012*\"investig\" + 0.012*\"jail\" + 0.011*\"blaze\" + 0.011*\"face\" + 0.010*\"assault\" + 0.010*\"drug\"\n",
      "\n",
      "\n",
      "Topic: 5 Word: 0.012*\"gold\" + 0.010*\"award\" + 0.009*\"win\" + 0.008*\"coast\" + 0.008*\"takeov\" + 0.008*\"world\" + 0.007*\"honour\" + 0.007*\"beat\" + 0.007*\"celebr\" + 0.006*\"upgrad\"\n",
      "\n",
      "\n",
      "Topic: 6 Word: 0.009*\"climat\" + 0.009*\"cancer\" + 0.007*\"light\" + 0.007*\"approv\" + 0.006*\"export\" + 0.006*\"price\" + 0.006*\"coal\" + 0.006*\"patient\" + 0.006*\"petrol\" + 0.006*\"green\"\n",
      "\n",
      "\n",
      "Topic: 7 Word: 0.011*\"nuclear\" + 0.011*\"howard\" + 0.009*\"liber\" + 0.008*\"govt\" + 0.008*\"iran\" + 0.008*\"elect\" + 0.008*\"labor\" + 0.007*\"health\" + 0.007*\"violenc\" + 0.007*\"bush\"\n",
      "\n",
      "\n",
      "Topic: 8 Word: 0.009*\"govt\" + 0.008*\"action\" + 0.008*\"grower\" + 0.007*\"wind\" + 0.007*\"councillor\" + 0.007*\"farm\" + 0.007*\"teacher\" + 0.006*\"council\" + 0.006*\"rat\" + 0.006*\"urg\"\n",
      "\n",
      "\n",
      "Topic: 9 Word: 0.017*\"water\" + 0.015*\"govt\" + 0.012*\"plan\" + 0.011*\"council\" + 0.010*\"fund\" + 0.009*\"urg\" + 0.008*\"drought\" + 0.008*\"boost\" + 0.007*\"farmer\" + 0.007*\"hick\"\n",
      "\n",
      "\n"
     ]
    }
   ],
   "source": [
    "'''\n",
    "For each topic, we will explore the words occuring in that topic and its relative weight\n",
    "'''\n",
    "for idx, topic in lda_model_tfidf.print_topics(-1):\n",
    "    print(\"Topic: {} Word: {}\".format(idx, topic))\n",
    "    print(\"\\n\")"
   ]
  },
  {
   "cell_type": "markdown",
   "metadata": {},
   "source": [
    "---\n",
    "## Step 5.1: Performance evaluation by classifying sample document using LDA Bag of Words model"
   ]
  },
  {
   "cell_type": "code",
   "execution_count": 27,
   "metadata": {},
   "outputs": [
    {
     "data": {
      "text/plain": [
       "['rain', 'help', 'dampen', 'bushfir']"
      ]
     },
     "execution_count": 27,
     "metadata": {},
     "output_type": "execute_result"
    }
   ],
   "source": [
    "processed_docs[4310]"
   ]
  },
  {
   "cell_type": "code",
   "execution_count": 28,
   "metadata": {},
   "outputs": [],
   "source": [
    "document_num = 4310"
   ]
  },
  {
   "cell_type": "code",
   "execution_count": 29,
   "metadata": {},
   "outputs": [
    {
     "name": "stdout",
     "output_type": "stream",
     "text": [
      "\n",
      "Score: 0.619979202747345\t \n",
      "Topic: 0.035*\"report\" + 0.030*\"help\" + 0.018*\"deal\" + 0.017*\"blaze\" + 0.015*\"inquiri\" + 0.013*\"close\" + 0.013*\"firefight\" + 0.012*\"bushfir\" + 0.012*\"trade\" + 0.011*\"river\"\n",
      "\n",
      "Score: 0.2200065404176712\t \n",
      "Topic: 0.020*\"school\" + 0.019*\"rise\" + 0.019*\"farmer\" + 0.019*\"drought\" + 0.017*\"price\" + 0.015*\"high\" + 0.014*\"market\" + 0.013*\"rain\" + 0.012*\"feder\" + 0.011*\"safeti\"\n",
      "\n",
      "Score: 0.020001783967018127\t \n",
      "Topic: 0.025*\"open\" + 0.021*\"test\" + 0.018*\"world\" + 0.017*\"win\" + 0.015*\"lead\" + 0.014*\"south\" + 0.012*\"aussi\" + 0.012*\"take\" + 0.012*\"timor\" + 0.011*\"strike\"\n",
      "\n",
      "Score: 0.020001783967018127\t \n",
      "Topic: 0.039*\"crash\" + 0.022*\"closer\" + 0.021*\"road\" + 0.017*\"die\" + 0.016*\"coast\" + 0.014*\"train\" + 0.014*\"dead\" + 0.012*\"kill\" + 0.012*\"gold\" + 0.012*\"north\"\n",
      "\n",
      "Score: 0.020001783967018127\t \n",
      "Topic: 0.041*\"plan\" + 0.036*\"govt\" + 0.033*\"council\" + 0.029*\"water\" + 0.022*\"urg\" + 0.018*\"fund\" + 0.016*\"group\" + 0.012*\"boost\" + 0.012*\"chang\" + 0.011*\"concern\"\n",
      "\n",
      "Score: 0.020001783967018127\t \n",
      "Topic: 0.023*\"hospit\" + 0.022*\"labor\" + 0.019*\"defend\" + 0.018*\"elect\" + 0.016*\"govt\" + 0.016*\"protest\" + 0.015*\"minist\" + 0.013*\"chief\" + 0.013*\"work\" + 0.013*\"begin\"\n",
      "\n",
      "Score: 0.020001783967018127\t \n",
      "Topic: 0.045*\"warn\" + 0.020*\"fight\" + 0.017*\"nuclear\" + 0.017*\"england\" + 0.017*\"year\" + 0.014*\"action\" + 0.014*\"threat\" + 0.011*\"iran\" + 0.011*\"say\" + 0.009*\"program\"\n",
      "\n",
      "Score: 0.020001783967018127\t \n",
      "Topic: 0.028*\"iraq\" + 0.018*\"talk\" + 0.016*\"hold\" + 0.016*\"australia\" + 0.015*\"troop\" + 0.012*\"storm\" + 0.012*\"leader\" + 0.010*\"bush\" + 0.010*\"victori\" + 0.010*\"tiger\"\n",
      "\n",
      "Score: 0.020001783967018127\t \n",
      "Topic: 0.073*\"polic\" + 0.031*\"charg\" + 0.027*\"court\" + 0.026*\"face\" + 0.020*\"kill\" + 0.020*\"investig\" + 0.019*\"attack\" + 0.019*\"miss\" + 0.018*\"jail\" + 0.018*\"death\"\n",
      "\n",
      "Score: 0.020001783967018127\t \n",
      "Topic: 0.034*\"claim\" + 0.027*\"say\" + 0.025*\"opposit\" + 0.021*\"deni\" + 0.019*\"govt\" + 0.018*\"reject\" + 0.018*\"rule\" + 0.017*\"break\" + 0.013*\"wont\" + 0.011*\"rudd\"\n"
     ]
    }
   ],
   "source": [
    "for index, score in sorted(lda_model[bow_corpus[document_num]], key=lambda tup: -1*tup[1]):\n",
    "    print(\"\\nScore: {}\\t \\nTopic: {}\".format(score, lda_model.print_topic(index, 10)))"
   ]
  },
  {
   "cell_type": "markdown",
   "metadata": {},
   "source": [
    "---\n",
    "## Step 5.2: Performance evaluation by classifying sample document using LDA TF-IDF model"
   ]
  },
  {
   "cell_type": "code",
   "execution_count": 30,
   "metadata": {},
   "outputs": [
    {
     "name": "stdout",
     "output_type": "stream",
     "text": [
      "\n",
      "Score: 0.8199693560600281\t \n",
      "Topic: 0.017*\"water\" + 0.015*\"govt\" + 0.012*\"plan\" + 0.011*\"council\" + 0.010*\"fund\" + 0.009*\"urg\" + 0.008*\"drought\" + 0.008*\"boost\" + 0.007*\"farmer\" + 0.007*\"hick\"\n",
      "\n",
      "Score: 0.020007479935884476\t \n",
      "Topic: 0.023*\"charg\" + 0.022*\"polic\" + 0.017*\"court\" + 0.015*\"murder\" + 0.012*\"investig\" + 0.012*\"jail\" + 0.011*\"blaze\" + 0.011*\"face\" + 0.010*\"assault\" + 0.010*\"drug\"\n",
      "\n",
      "Score: 0.020004011690616608\t \n",
      "Topic: 0.009*\"govt\" + 0.008*\"action\" + 0.008*\"grower\" + 0.007*\"wind\" + 0.007*\"councillor\" + 0.007*\"farm\" + 0.007*\"teacher\" + 0.006*\"council\" + 0.006*\"rat\" + 0.006*\"urg\"\n",
      "\n",
      "Score: 0.020003804937005043\t \n",
      "Topic: 0.009*\"climat\" + 0.009*\"cancer\" + 0.007*\"light\" + 0.007*\"approv\" + 0.006*\"export\" + 0.006*\"price\" + 0.006*\"coal\" + 0.006*\"patient\" + 0.006*\"petrol\" + 0.006*\"green\"\n",
      "\n",
      "Score: 0.020002786070108414\t \n",
      "Topic: 0.023*\"miss\" + 0.019*\"search\" + 0.013*\"rudd\" + 0.011*\"rate\" + 0.008*\"airport\" + 0.008*\"polic\" + 0.008*\"level\" + 0.008*\"escap\" + 0.007*\"post\" + 0.007*\"profit\"\n",
      "\n",
      "Score: 0.02000262215733528\t \n",
      "Topic: 0.023*\"kill\" + 0.021*\"crash\" + 0.012*\"die\" + 0.011*\"timor\" + 0.010*\"troop\" + 0.010*\"iraq\" + 0.010*\"south\" + 0.009*\"injur\" + 0.009*\"dead\" + 0.008*\"bomb\"\n",
      "\n",
      "Score: 0.020002547651529312\t \n",
      "Topic: 0.014*\"fatal\" + 0.009*\"qanta\" + 0.008*\"hill\" + 0.008*\"anti\" + 0.007*\"break\" + 0.007*\"law\" + 0.007*\"terror\" + 0.006*\"iemma\" + 0.006*\"speed\" + 0.006*\"plant\"\n",
      "\n",
      "Score: 0.020002523437142372\t \n",
      "Topic: 0.040*\"closer\" + 0.009*\"cyclon\" + 0.009*\"tiger\" + 0.008*\"market\" + 0.008*\"england\" + 0.008*\"victori\" + 0.007*\"blue\" + 0.006*\"season\" + 0.006*\"open\" + 0.006*\"lead\"\n",
      "\n",
      "Score: 0.020002523437142372\t \n",
      "Topic: 0.011*\"nuclear\" + 0.011*\"howard\" + 0.009*\"liber\" + 0.008*\"govt\" + 0.008*\"iran\" + 0.008*\"elect\" + 0.008*\"labor\" + 0.007*\"health\" + 0.007*\"violenc\" + 0.007*\"bush\"\n",
      "\n",
      "Score: 0.020002281293272972\t \n",
      "Topic: 0.012*\"gold\" + 0.010*\"award\" + 0.009*\"win\" + 0.008*\"coast\" + 0.008*\"takeov\" + 0.008*\"world\" + 0.007*\"honour\" + 0.007*\"beat\" + 0.007*\"celebr\" + 0.006*\"upgrad\"\n"
     ]
    }
   ],
   "source": [
    "'''\n",
    "Check which topic our test document belongs to using the LDA TF-IDF model.\n",
    "'''\n",
    "# Our test document is document number 4310\n",
    "for index, score in sorted(lda_model_tfidf[bow_corpus[document_num]], key=lambda tup: -1*tup[1]):\n",
    "    print(\"\\nScore: {}\\t \\nTopic: {}\".format(score, lda_model_tfidf.print_topic(index, 10)))"
   ]
  },
  {
   "cell_type": "markdown",
   "metadata": {},
   "source": [
    "---\n",
    "## Step 6: Testing model on unseen documen"
   ]
  },
  {
   "cell_type": "code",
   "execution_count": 31,
   "metadata": {},
   "outputs": [
    {
     "name": "stdout",
     "output_type": "stream",
     "text": [
      "Score: 0.42001497745513916\t Topic: 0.025*\"open\" + 0.021*\"test\" + 0.018*\"world\" + 0.017*\"win\" + 0.015*\"lead\"\n",
      "Score: 0.22000519931316376\t Topic: 0.028*\"iraq\" + 0.018*\"talk\" + 0.016*\"hold\" + 0.016*\"australia\" + 0.015*\"troop\"\n",
      "Score: 0.21993423998355865\t Topic: 0.023*\"hospit\" + 0.022*\"labor\" + 0.019*\"defend\" + 0.018*\"elect\" + 0.016*\"govt\"\n",
      "Score: 0.020015157759189606\t Topic: 0.045*\"warn\" + 0.020*\"fight\" + 0.017*\"nuclear\" + 0.017*\"england\" + 0.017*\"year\"\n",
      "Score: 0.02000507153570652\t Topic: 0.035*\"report\" + 0.030*\"help\" + 0.018*\"deal\" + 0.017*\"blaze\" + 0.015*\"inquiri\"\n",
      "Score: 0.02000507153570652\t Topic: 0.039*\"crash\" + 0.022*\"closer\" + 0.021*\"road\" + 0.017*\"die\" + 0.016*\"coast\"\n",
      "Score: 0.02000507153570652\t Topic: 0.041*\"plan\" + 0.036*\"govt\" + 0.033*\"council\" + 0.029*\"water\" + 0.022*\"urg\"\n",
      "Score: 0.02000507153570652\t Topic: 0.020*\"school\" + 0.019*\"rise\" + 0.019*\"farmer\" + 0.019*\"drought\" + 0.017*\"price\"\n",
      "Score: 0.02000507153570652\t Topic: 0.073*\"polic\" + 0.031*\"charg\" + 0.027*\"court\" + 0.026*\"face\" + 0.020*\"kill\"\n",
      "Score: 0.02000507153570652\t Topic: 0.034*\"claim\" + 0.027*\"say\" + 0.025*\"opposit\" + 0.021*\"deni\" + 0.019*\"govt\"\n"
     ]
    }
   ],
   "source": [
    "unseen_document = \"My favorite sports activities are running and swimming.\"\n",
    "\n",
    "# Data preprocessing step for the unseen document\n",
    "bow_vector = dictionary.doc2bow(preprocess(unseen_document))\n",
    "\n",
    "for index, score in sorted(lda_model[bow_vector], key=lambda tup: -1*tup[1]):\n",
    "    print(\"Score: {}\\t Topic: {}\".format(score, lda_model.print_topic(index, 5)))"
   ]
  },
  {
   "cell_type": "code",
   "execution_count": 32,
   "metadata": {},
   "outputs": [
    {
     "name": "stdout",
     "output_type": "stream",
     "text": [
      "Score: 0.6199879050254822\t Topic: 0.045*\"warn\" + 0.020*\"fight\" + 0.017*\"nuclear\" + 0.017*\"england\" + 0.017*\"year\"\n",
      "Score: 0.21997198462486267\t Topic: 0.073*\"polic\" + 0.031*\"charg\" + 0.027*\"court\" + 0.026*\"face\" + 0.020*\"kill\"\n",
      "Score: 0.02001383528113365\t Topic: 0.041*\"plan\" + 0.036*\"govt\" + 0.033*\"council\" + 0.029*\"water\" + 0.022*\"urg\"\n",
      "Score: 0.02000511810183525\t Topic: 0.025*\"open\" + 0.021*\"test\" + 0.018*\"world\" + 0.017*\"win\" + 0.015*\"lead\"\n",
      "Score: 0.02000470645725727\t Topic: 0.028*\"iraq\" + 0.018*\"talk\" + 0.016*\"hold\" + 0.016*\"australia\" + 0.015*\"troop\"\n",
      "Score: 0.020003294572234154\t Topic: 0.035*\"report\" + 0.030*\"help\" + 0.018*\"deal\" + 0.017*\"blaze\" + 0.015*\"inquiri\"\n",
      "Score: 0.020003294572234154\t Topic: 0.039*\"crash\" + 0.022*\"closer\" + 0.021*\"road\" + 0.017*\"die\" + 0.016*\"coast\"\n",
      "Score: 0.020003294572234154\t Topic: 0.023*\"hospit\" + 0.022*\"labor\" + 0.019*\"defend\" + 0.018*\"elect\" + 0.016*\"govt\"\n",
      "Score: 0.020003294572234154\t Topic: 0.020*\"school\" + 0.019*\"rise\" + 0.019*\"farmer\" + 0.019*\"drought\" + 0.017*\"price\"\n",
      "Score: 0.020003294572234154\t Topic: 0.034*\"claim\" + 0.027*\"say\" + 0.025*\"opposit\" + 0.021*\"deni\" + 0.019*\"govt\"\n"
     ]
    }
   ],
   "source": [
    "unseen_document = \"My favorite sports activities are running and swimming.\"\n",
    "\n",
    "# Data preprocessing step for the unseen document\n",
    "bow_vector = dictionary.doc2bow(preprocess(unseen_document))\n",
    "\n",
    "for index, score in sorted(lda_model_tfidf[bow_vector], key=lambda tup: -1*tup[1]):\n",
    "    print(\"Score: {}\\t Topic: {}\".format(score, lda_model.print_topic(index, 5)))"
   ]
  },
  {
   "cell_type": "code",
   "execution_count": null,
   "metadata": {},
   "outputs": [],
   "source": []
  }
 ],
 "metadata": {
  "kernelspec": {
   "display_name": "Python 3",
   "language": "python",
   "name": "python3"
  },
  "language_info": {
   "codemirror_mode": {
    "name": "ipython",
    "version": 3
   },
   "file_extension": ".py",
   "mimetype": "text/x-python",
   "name": "python",
   "nbconvert_exporter": "python",
   "pygments_lexer": "ipython3",
   "version": "3.7.7"
  }
 },
 "nbformat": 4,
 "nbformat_minor": 4
}
